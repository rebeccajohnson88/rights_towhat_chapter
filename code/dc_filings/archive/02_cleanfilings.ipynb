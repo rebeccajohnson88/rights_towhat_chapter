{
 "cells": [
  {
   "cell_type": "code",
   "execution_count": 86,
   "metadata": {},
   "outputs": [],
   "source": [
    "from tabula import read_pdf\n",
    "import os\n",
    "import pandas as pd\n",
    "import pickle\n",
    "import re\n",
    "\n",
    "from IPython.core.interactiveshell import InteractiveShell\n",
    "InteractiveShell.ast_node_interactivity = \"all\"\n",
    "\n",
    "\n",
    "\n",
    "def process_one_table(one_table):\n",
    "    first_row = one_table.iloc[0, ].astype(str).str.upper()\n",
    "    try:\n",
    "        case_no_index = [i for i, e in enumerate(first_row) if re.search(\"CASE NUM\", e,\n",
    "                                                                        re.IGNORECASE)][0]\n",
    "    except:\n",
    "        case_no_index = 0\n",
    "    try:\n",
    "        home_school_index = [i for i, e in enumerate(first_row) if re.search(\"STUDENT HOM\", e,\n",
    "                                                                            re.IGNORECASE)][0]\n",
    "    except:\n",
    "        home_school_index = 0\n",
    "    try:\n",
    "        attending_school_index  = [i for i, e in enumerate(first_row) if re.search(\"STUDENT ATTEN\", e,\n",
    "                                                                                  re.IGNORECASE)][0]\n",
    "    except:\n",
    "        attending_school_index = 0\n",
    "    try:\n",
    "        casetype_index  = first_row.tolist().index(\"CASE TYPE\")\n",
    "    except:\n",
    "        casetype_index = 0\n",
    "    try:\n",
    "        dcps_index = [i for i, e in enumerate(first_row) if re.search(\"AGAINST DCP\", e,\n",
    "                                                                     re.IGNORECASE)][0]\n",
    "    except:\n",
    "        dcps_index = 0\n",
    "    try:\n",
    "        charter_index = [i for i, e in enumerate(first_row) if re.search(\"AGAINST Charter\", e,\n",
    "                                                                        re.IGNORECASE)][0]\n",
    "    except:\n",
    "        charter_index = 0\n",
    "    try:\n",
    "        osse_index = [i for i, e in enumerate(first_row) if re.search(\"OSSE\", e,\n",
    "                                                                     re.IGNORECASE)][0]\n",
    "    except:\n",
    "        osse_index = 0\n",
    "\n",
    "    ## construct new df\n",
    "    date_cols = one_table.iloc[1:, -2:]\n",
    "    date_cols.columns = ['date_order_1', \"date_order_2\"]\n",
    "    #return(date_cols)\n",
    "    new_df = pd.concat([pd.DataFrame({'case_no': one_table.iloc[1:, case_no_index],\n",
    "                          'home_school': one_table.iloc[1:, home_school_index],\n",
    "                          'attending_school': one_table.iloc[1:, attending_school_index],\n",
    "                          'casetype': one_table.iloc[1:, casetype_index],\n",
    "                          'dcps_school_against': one_table.iloc[1:, dcps_index],\n",
    "                          'charter_school_against': one_table.iloc[1:, charter_index],\n",
    "                          'osse_against': one_table.iloc[1:, osse_index]}),\n",
    "                       date_cols],\n",
    "                      axis = 1)\n",
    "\n",
    "    return(new_df)\n",
    "\n",
    "\n",
    "\n",
    "\n",
    "\n"
   ]
  },
  {
   "cell_type": "code",
   "execution_count": 88,
   "metadata": {},
   "outputs": [
    {
     "data": {
      "text/plain": [
       "'/Users/rebeccajohnson/Dropbox/rights_towhat_chapter/code/dc_filings'"
      ]
     },
     "execution_count": 88,
     "metadata": {},
     "output_type": "execute_result"
    }
   ],
   "source": [
    "############### Read raw tables\n",
    "os.getcwd()\n",
    "dc_filings = pickle.load(open(\"../../raw_input/dc/dc_rawtables.p\", \"rb\"))"
   ]
  },
  {
   "cell_type": "code",
   "execution_count": 89,
   "metadata": {},
   "outputs": [
    {
     "name": "stdout",
     "output_type": "stream",
     "text": [
      "starting processing\n",
      "ending processing\n"
     ]
    }
   ],
   "source": [
    "\n",
    "## process the tables\n",
    "print(\"starting processing\")\n",
    "processed_filings = [process_one_table(filing) for filing in dc_filings]\n",
    "print(\"ending processing\")\n",
    "processed_all = pd.concat(processed_filings)"
   ]
  },
  {
   "cell_type": "code",
   "execution_count": 90,
   "metadata": {},
   "outputs": [],
   "source": [
    "## instead of padding, use following decision rule:\n",
    "## (1) take row with case number\n",
    "## (2) see how many missing\n",
    "processed_complete = processed_all[~processed_all.case_no.isnull()].drop_duplicates()\n"
   ]
  },
  {
   "cell_type": "code",
   "execution_count": 91,
   "metadata": {},
   "outputs": [],
   "source": [
    "\n",
    "## write \n",
    "processed_complete.to_csv(\"../../intermediate_objects/processed_filings_preclean_dc.csv\", index = False)"
   ]
  }
 ],
 "metadata": {
  "kernelspec": {
   "display_name": "Python 3",
   "language": "python",
   "name": "python3"
  },
  "language_info": {
   "codemirror_mode": {
    "name": "ipython",
    "version": 3
   },
   "file_extension": ".py",
   "mimetype": "text/x-python",
   "name": "python",
   "nbconvert_exporter": "python",
   "pygments_lexer": "ipython3",
   "version": "3.8.3"
  }
 },
 "nbformat": 4,
 "nbformat_minor": 4
}
