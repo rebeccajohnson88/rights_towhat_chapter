{
 "cells": [
  {
   "cell_type": "markdown",
   "metadata": {},
   "source": [
    "# Clean and link filings\n",
    "\n"
   ]
  },
  {
   "cell_type": "markdown",
   "metadata": {},
   "source": [
    "## 0. Imports and functions"
   ]
  },
  {
   "cell_type": "code",
   "execution_count": 1,
   "metadata": {},
   "outputs": [],
   "source": [
    "\n",
    "import pandas as pd\n",
    "import pickle\n",
    "import re\n",
    "import numpy as np\n",
    "import plotnine\n",
    "from plotnine import *\n",
    "\n",
    "\n",
    "pd.set_option('display.float_format', lambda x: '%.3f' % x)\n",
    "from IPython.core.interactiveshell import InteractiveShell\n",
    "InteractiveShell.ast_node_interactivity = \"all\""
   ]
  },
  {
   "cell_type": "markdown",
   "metadata": {},
   "source": [
    "# 1. Load demographic data\n"
   ]
  },
  {
   "cell_type": "code",
   "execution_count": 2,
   "metadata": {},
   "outputs": [],
   "source": [
    "df_crdc = pd.read_pickle(\"../../intermediate_objects/cleaned_df/dc_crdc_2013.pkl\")\n",
    "df_cc = pd.read_pickle(\"../../intermediate_objects/cleaned_df/dc_ccd_2013.pkl\")\n",
    "\n",
    "\n",
    "df_crdc['ncesid_clean'] = df_crdc.NCESSCH.astype(str).str.replace(\"\\\\.\", \"\", regex = True)"
   ]
  },
  {
   "cell_type": "markdown",
   "metadata": {},
   "source": [
    "## 2. Load filings data"
   ]
  },
  {
   "cell_type": "code",
   "execution_count": 3,
   "metadata": {},
   "outputs": [],
   "source": [
    "filings = pd.read_pickle(\"../../intermediate_objects/cleaned_df/dc_filings.pkl\")\n"
   ]
  },
  {
   "cell_type": "code",
   "execution_count": 5,
   "metadata": {},
   "outputs": [],
   "source": [
    "## first try merging between the nces school-level id and crdc\n",
    "\n",
    "filings['ncesid_clean'] = np.where(filings.ncessch.notnull(),\n",
    "                                   filings.ncessch.astype(str).str.replace(\"\\\\.\", \"\", regex = True),\n",
    "                                   np.nan)\n",
    "\n",
    "\n",
    "## aggregate by non-missing ncesid\n",
    "filings_agg = filings[filings.ncesid_clean.notnull()].groupby(['ncesid_clean']).agg({'case_no': \n",
    "                                                'nunique'}).reset_index()\n",
    "\n",
    "## left join onto crdc\n",
    "filings_agg_wcrdc = pd.merge(df_crdc,\n",
    "                            filings_agg,\n",
    "                            on = 'ncesid_clean',\n",
    "                            how = 'left',\n",
    "                            indicator = 'crdc_status')\n",
    "\n",
    "\n",
    "filings_agg_complete = filings_agg_wcrdc[(filings_agg_wcrdc.STUDENTS_WITH_DISABILITIES_SERVED_UNDER_IDEA.notnull()) &\n",
    "                                        (filings_agg_wcrdc.STUDENTS_WITH_DISABILITIES_SERVED_UNDER_IDEA_rate < 0.5)].copy()\n",
    "\n",
    "\n",
    "filings_agg_complete['case_status'] = np.where(filings_agg_complete.crdc_status == \"both\",\n",
    "                                              \"Any filings\",\n",
    "                                              \"No filings\")\n",
    "\n",
    "## write csv for R\n",
    "filings_agg_complete.to_csv(\"../../intermediate_objects/cleaned_df/dc_filings_wcrdc.csv\",\n",
    "                           index = False)"
   ]
  },
  {
   "cell_type": "code",
   "execution_count": 9,
   "metadata": {},
   "outputs": [],
   "source": [
    "## create non-aggregated version at filings level\n",
    "\n",
    "filings_indiv_wcrdc = pd.merge(filings,\n",
    "                            df_crdc,\n",
    "                            on = 'ncesid_clean',\n",
    "                            how = 'left',\n",
    "                            indicator = 'crdc_status')\n",
    "filings_indiv_wcrdc.to_csv(\"../../intermediate_objects/cleaned_df/dc_filings_wcrdc_nonagg.csv\",\n",
    "                           index = False)"
   ]
  },
  {
   "cell_type": "code",
   "execution_count": null,
   "metadata": {},
   "outputs": [],
   "source": [
    "## where things left off:\n",
    "## - fuzzy matching nces and ccd\n",
    "## next steps:\n",
    "## - load in matched data\n",
    "## - get better ids\n",
    "## - do left join on nces and hopefully more schools also have ccd data"
   ]
  }
 ],
 "metadata": {
  "kernelspec": {
   "display_name": "Python 3",
   "language": "python",
   "name": "python3"
  },
  "language_info": {
   "codemirror_mode": {
    "name": "ipython",
    "version": 3
   },
   "file_extension": ".py",
   "mimetype": "text/x-python",
   "name": "python",
   "nbconvert_exporter": "python",
   "pygments_lexer": "ipython3",
   "version": "3.8.3"
  }
 },
 "nbformat": 4,
 "nbformat_minor": 2
}
