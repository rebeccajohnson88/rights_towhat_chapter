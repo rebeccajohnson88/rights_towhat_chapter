{
 "cells": [
  {
   "cell_type": "code",
   "execution_count": 6,
   "metadata": {},
   "outputs": [],
   "source": [
    "# Setup\n",
    "\n",
    "import pandas as pd\n",
    "import os\n",
    "\n",
    "path = os.getcwd()\n",
    "path += '\\\\Downloads\\\\Data'\n",
    "files = os.listdir(path)\n",
    "pd.set_option('max_columns', None)\n"
   ]
  },
  {
   "cell_type": "code",
   "execution_count": 15,
   "metadata": {},
   "outputs": [
    {
     "data": {
      "text/plain": [
       "['DC_1819_final.xlsx',\n",
       " 'FL_1819_final.xlsx',\n",
       " 'IL_1819_final.xlsx',\n",
       " 'OH_1819_final.xlsx',\n",
       " 'TX_1819_final.xlsx',\n",
       " 'VA_1819_final.xlsx',\n",
       " 'WA_1819_final.xlsx',\n",
       " 'WI_1819_final.xlsx']"
      ]
     },
     "execution_count": 15,
     "metadata": {},
     "output_type": "execute_result"
    }
   ],
   "source": [
    "files"
   ]
  },
  {
   "cell_type": "code",
   "execution_count": 94,
   "metadata": {},
   "outputs": [],
   "source": [
    "# Create data frame for preliminary data\n",
    "data = pd.DataFrame(index=[f[0:2] for f in files], columns=['School#', \"Early Education\", \"Elementary\", \"Middle\", \"High\", \"Students#\", \"AVG_ExpendPP\"])\n"
   ]
  },
  {
   "cell_type": "code",
   "execution_count": 99,
   "metadata": {},
   "outputs": [
    {
     "name": "stdout",
     "output_type": "stream",
     "text": [
      "DC_1819_final.xlsx\n",
      "FL_1819_final.xlsx\n",
      "IL_1819_final.xlsx\n",
      "OH_1819_final.xlsx\n",
      "TX_1819_final.xlsx\n",
      "VA_1819_final.xlsx\n",
      "WA_1819_final.xlsx\n",
      "WI_1819_final.xlsx\n"
     ]
    }
   ],
   "source": [
    "# Some of the data files needs to be converted into a Excel Workbook to open\n",
    "\n",
    "for f in files:\n",
    "    print(f)\n",
    "    st = f[0:2]\n",
    "    df = pd.read_excel(\"Downloads/Data/\" + f, index_col=\"schoolid\")\n",
    "    \n",
    "    data['School#'][st] = df.count()['state']\n",
    "    data['Students#'][st] = df['ncesenroll'].sum()\n",
    "    \n",
    "    \n",
    "    \n",
    "    data[\"AVG_ExpendPP\"][st] = df[\"pp_total_raw_\" + st].sum()/data[\"School#\"][st]\n",
    "    \n",
    "    \n",
    "    grade_level = df.level.value_counts()\n",
    "    for ind in range(1,5):\n",
    "        try:\n",
    "            grade_level[ind]\n",
    "        except:\n",
    "            continue\n",
    "        data[data.columns[ind]][st] = grade_level[ind]"
   ]
  },
  {
   "cell_type": "code",
   "execution_count": 100,
   "metadata": {},
   "outputs": [
    {
     "data": {
      "text/html": [
       "<div>\n",
       "<style scoped>\n",
       "    .dataframe tbody tr th:only-of-type {\n",
       "        vertical-align: middle;\n",
       "    }\n",
       "\n",
       "    .dataframe tbody tr th {\n",
       "        vertical-align: top;\n",
       "    }\n",
       "\n",
       "    .dataframe thead th {\n",
       "        text-align: right;\n",
       "    }\n",
       "</style>\n",
       "<table border=\"1\" class=\"dataframe\">\n",
       "  <thead>\n",
       "    <tr style=\"text-align: right;\">\n",
       "      <th></th>\n",
       "      <th>School#</th>\n",
       "      <th>Early Education</th>\n",
       "      <th>Elementary</th>\n",
       "      <th>Middle</th>\n",
       "      <th>High</th>\n",
       "      <th>Students#</th>\n",
       "      <th>AVG_ExpendPP</th>\n",
       "    </tr>\n",
       "  </thead>\n",
       "  <tbody>\n",
       "    <tr>\n",
       "      <th>DC</th>\n",
       "      <td>231</td>\n",
       "      <td>13</td>\n",
       "      <td>99</td>\n",
       "      <td>66</td>\n",
       "      <td>41</td>\n",
       "      <td>84996</td>\n",
       "      <td>21802.3</td>\n",
       "    </tr>\n",
       "    <tr>\n",
       "      <th>FL</th>\n",
       "      <td>3611</td>\n",
       "      <td>NaN</td>\n",
       "      <td>1779</td>\n",
       "      <td>928</td>\n",
       "      <td>878</td>\n",
       "      <td>2.79706e+06</td>\n",
       "      <td>10069.6</td>\n",
       "    </tr>\n",
       "    <tr>\n",
       "      <th>IL</th>\n",
       "      <td>3872</td>\n",
       "      <td>152</td>\n",
       "      <td>1656</td>\n",
       "      <td>1314</td>\n",
       "      <td>722</td>\n",
       "      <td>1.93805e+06</td>\n",
       "      <td>12793</td>\n",
       "    </tr>\n",
       "    <tr>\n",
       "      <th>OH</th>\n",
       "      <td>3396</td>\n",
       "      <td>51</td>\n",
       "      <td>1538</td>\n",
       "      <td>872</td>\n",
       "      <td>881</td>\n",
       "      <td>1.67081e+06</td>\n",
       "      <td>8711.58</td>\n",
       "    </tr>\n",
       "    <tr>\n",
       "      <th>TX</th>\n",
       "      <td>8641</td>\n",
       "      <td>241</td>\n",
       "      <td>4420</td>\n",
       "      <td>1722</td>\n",
       "      <td>2153</td>\n",
       "      <td>5.40156e+06</td>\n",
       "      <td>11133.8</td>\n",
       "    </tr>\n",
       "    <tr>\n",
       "      <th>VA</th>\n",
       "      <td>1797</td>\n",
       "      <td>6</td>\n",
       "      <td>1097</td>\n",
       "      <td>369</td>\n",
       "      <td>325</td>\n",
       "      <td>1.26213e+06</td>\n",
       "      <td>12175.4</td>\n",
       "    </tr>\n",
       "    <tr>\n",
       "      <th>WA</th>\n",
       "      <td>2384</td>\n",
       "      <td>89</td>\n",
       "      <td>1104</td>\n",
       "      <td>451</td>\n",
       "      <td>718</td>\n",
       "      <td>1.12095e+06</td>\n",
       "      <td>15766.8</td>\n",
       "    </tr>\n",
       "    <tr>\n",
       "      <th>WI</th>\n",
       "      <td>2262</td>\n",
       "      <td>102</td>\n",
       "      <td>975</td>\n",
       "      <td>532</td>\n",
       "      <td>580</td>\n",
       "      <td>855197</td>\n",
       "      <td>12419.7</td>\n",
       "    </tr>\n",
       "  </tbody>\n",
       "</table>\n",
       "</div>"
      ],
      "text/plain": [
       "   School# Early Education Elementary Middle  High    Students# AVG_ExpendPP\n",
       "DC     231              13         99     66    41        84996      21802.3\n",
       "FL    3611             NaN       1779    928   878  2.79706e+06      10069.6\n",
       "IL    3872             152       1656   1314   722  1.93805e+06        12793\n",
       "OH    3396              51       1538    872   881  1.67081e+06      8711.58\n",
       "TX    8641             241       4420   1722  2153  5.40156e+06      11133.8\n",
       "VA    1797               6       1097    369   325  1.26213e+06      12175.4\n",
       "WA    2384              89       1104    451   718  1.12095e+06      15766.8\n",
       "WI    2262             102        975    532   580       855197      12419.7"
      ]
     },
     "execution_count": 100,
     "metadata": {},
     "output_type": "execute_result"
    }
   ],
   "source": [
    "data"
   ]
  }
 ],
 "metadata": {
  "kernelspec": {
   "display_name": "Python 3",
   "language": "python",
   "name": "python3"
  },
  "language_info": {
   "codemirror_mode": {
    "name": "ipython",
    "version": 3
   },
   "file_extension": ".py",
   "mimetype": "text/x-python",
   "name": "python",
   "nbconvert_exporter": "python",
   "pygments_lexer": "ipython3",
   "version": "3.8.5"
  }
 },
 "nbformat": 4,
 "nbformat_minor": 4
}
